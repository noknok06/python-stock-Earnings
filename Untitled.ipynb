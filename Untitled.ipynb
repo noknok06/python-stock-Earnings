{
 "cells": [
  {
   "cell_type": "code",
   "execution_count": 16,
   "id": "688b2b8d-d95a-4d04-95ca-76b24b9cc4f7",
   "metadata": {},
   "outputs": [],
   "source": [
    "import yfinance as yf\n",
    "import pandas as pd"
   ]
  },
  {
   "cell_type": "code",
   "execution_count": 20,
   "id": "913129aa-e770-476f-b38b-6e9766ec9513",
   "metadata": {},
   "outputs": [],
   "source": [
    "\n",
    "# 明星工の情報を取得\n",
    "stock_code = \"1976.T\"\n",
    "\n",
    "# 指定した証券コードの企業情報を取得(JSON形式)\n",
    "ticker_info = yf.Ticker(stock_code)\n"
   ]
  },
  {
   "cell_type": "code",
   "execution_count": 35,
   "id": "eec1f0cf-306f-4fd3-92d0-632fe8d241bd",
   "metadata": {},
   "outputs": [
    {
     "name": "stdout",
     "output_type": "stream",
     "text": [
      "********バランスシート********\n",
      "                                                     2023-03-31  \\\n",
      "Treasury Shares Number                                6587371.0   \n",
      "Ordinary Shares Number                               49799347.0   \n",
      "Share Issued                                         56386718.0   \n",
      "Total Debt                                          800000000.0   \n",
      "Tangible Book Value                               58991000000.0   \n",
      "...                                                         ...   \n",
      "Other Receivables                                  6009000000.0   \n",
      "Accounts Receivable                               16275000000.0   \n",
      "Cash Cash Equivalents And Short Term Investments  29317000000.0   \n",
      "Other Short Term Investments                        300000000.0   \n",
      "Cash And Cash Equivalents                         29017000000.0   \n",
      "\n",
      "                                                     2022-03-31  \\\n",
      "Treasury Shares Number                                6614632.0   \n",
      "Ordinary Shares Number                               49772086.0   \n",
      "Share Issued                                         56386718.0   \n",
      "Total Debt                                          960000000.0   \n",
      "Tangible Book Value                               55487000000.0   \n",
      "...                                                         ...   \n",
      "Other Receivables                                  4011000000.0   \n",
      "Accounts Receivable                               15354000000.0   \n",
      "Cash Cash Equivalents And Short Term Investments  27492000000.0   \n",
      "Other Short Term Investments                        300000000.0   \n",
      "Cash And Cash Equivalents                         27192000000.0   \n",
      "\n",
      "                                                     2021-03-31     2020-03-31  \n",
      "Treasury Shares Number                                8114323.0      8121256.0  \n",
      "Ordinary Shares Number                               51272395.0     51265462.0  \n",
      "Share Issued                                         59386718.0     59386718.0  \n",
      "Total Debt                                         1020000000.0    960000000.0  \n",
      "Tangible Book Value                               53911000000.0  50371000000.0  \n",
      "...                                                         ...            ...  \n",
      "Other Receivables                                  2173000000.0   1351000000.0  \n",
      "Accounts Receivable                               18288000000.0  18864000000.0  \n",
      "Cash Cash Equivalents And Short Term Investments  22884000000.0  19691000000.0  \n",
      "Other Short Term Investments                        400000000.0    300000000.0  \n",
      "Cash And Cash Equivalents                         22484000000.0  19391000000.0  \n",
      "\n",
      "[64 rows x 4 columns]\n"
     ]
    }
   ],
   "source": [
    "\n",
    "# 取得した情報の出力\n",
    "# バランスシート\n",
    "print(\"********バランスシート********\")\n",
    "print(ticker_info.balancesheet)"
   ]
  },
  {
   "cell_type": "code",
   "execution_count": 37,
   "id": "ce5e106b-d205-4093-a664-a00c3547741a",
   "metadata": {},
   "outputs": [
    {
     "name": "stdout",
     "output_type": "stream",
     "text": [
      "********配当********\n",
      "Date\n",
      "2002-03-26 00:00:00+09:00     2.5\n",
      "2004-03-26 00:00:00+09:00     2.5\n",
      "2007-03-27 00:00:00+09:00     3.0\n",
      "2007-09-25 00:00:00+09:00     3.0\n",
      "2008-03-26 00:00:00+09:00     3.0\n",
      "2008-09-25 00:00:00+09:00     3.0\n",
      "2009-03-26 00:00:00+09:00     3.0\n",
      "2009-09-25 00:00:00+09:00     3.0\n",
      "2010-03-29 00:00:00+09:00     3.0\n",
      "2010-09-28 00:00:00+09:00     3.0\n",
      "2011-03-29 00:00:00+09:00     3.0\n",
      "2011-09-28 00:00:00+09:00     3.0\n",
      "2012-03-28 00:00:00+09:00     3.0\n",
      "2012-09-26 00:00:00+09:00     3.0\n",
      "2013-03-27 00:00:00+09:00     3.0\n",
      "2013-09-26 00:00:00+09:00     3.0\n",
      "2014-03-27 00:00:00+09:00     2.0\n",
      "2014-09-26 00:00:00+09:00     4.0\n",
      "2015-03-27 00:00:00+09:00     4.0\n",
      "2015-09-28 00:00:00+09:00     5.0\n",
      "2016-03-29 00:00:00+09:00     5.0\n",
      "2016-09-28 00:00:00+09:00     6.0\n",
      "2017-03-29 00:00:00+09:00     8.0\n",
      "2017-09-27 00:00:00+09:00     8.0\n",
      "2018-03-28 00:00:00+09:00    18.0\n",
      "2018-09-26 00:00:00+09:00    10.0\n",
      "2019-03-27 00:00:00+09:00    20.0\n",
      "2019-09-27 00:00:00+09:00    10.0\n",
      "2020-03-30 00:00:00+09:00    20.0\n",
      "2020-09-29 00:00:00+09:00    10.0\n",
      "2021-03-30 00:00:00+09:00    12.0\n",
      "2021-09-29 00:00:00+09:00    10.0\n",
      "2022-03-30 00:00:00+09:00    20.0\n",
      "2022-09-29 00:00:00+09:00    12.0\n",
      "2023-03-30 00:00:00+09:00    24.0\n",
      "2023-09-28 00:00:00+09:00    14.0\n",
      "Name: Dividends, dtype: float64\n"
     ]
    }
   ],
   "source": [
    "\n",
    "# 配当\n",
    "print(\"********配当********\")\n",
    "print(ticker_info.dividends)"
   ]
  },
  {
   "cell_type": "code",
   "execution_count": 39,
   "id": "63c3a1b2-c05f-4816-8f9a-9fe69bdc32ab",
   "metadata": {},
   "outputs": [
    {
     "ename": "YFNotImplementedError",
     "evalue": "Have not implemented fetching 'earnings' from Yahoo API",
     "output_type": "error",
     "traceback": [
      "\u001b[0;31m---------------------------------------------------------------------------\u001b[0m",
      "\u001b[0;31mYFNotImplementedError\u001b[0m                     Traceback (most recent call last)",
      "Cell \u001b[0;32mIn[39], line 1\u001b[0m\n\u001b[0;32m----> 1\u001b[0m \u001b[38;5;28mprint\u001b[39m(\u001b[43mticker_info\u001b[49m\u001b[38;5;241;43m.\u001b[39;49m\u001b[43mearnings\u001b[49m)\n",
      "File \u001b[0;32m/usr/local/lib/python3.9/site-packages/yfinance/ticker.py:158\u001b[0m, in \u001b[0;36mTicker.earnings\u001b[0;34m(self)\u001b[0m\n\u001b[1;32m    156\u001b[0m \u001b[38;5;129m@property\u001b[39m\n\u001b[1;32m    157\u001b[0m \u001b[38;5;28;01mdef\u001b[39;00m \u001b[38;5;21mearnings\u001b[39m(\u001b[38;5;28mself\u001b[39m) \u001b[38;5;241m-\u001b[39m\u001b[38;5;241m>\u001b[39m _pd\u001b[38;5;241m.\u001b[39mDataFrame:\n\u001b[0;32m--> 158\u001b[0m     \u001b[38;5;28;01mreturn\u001b[39;00m \u001b[38;5;28;43mself\u001b[39;49m\u001b[38;5;241;43m.\u001b[39;49m\u001b[43mget_earnings\u001b[49m\u001b[43m(\u001b[49m\u001b[43m)\u001b[49m\n",
      "File \u001b[0;32m/usr/local/lib/python3.9/site-packages/yfinance/base.py:1754\u001b[0m, in \u001b[0;36mTickerBase.get_earnings\u001b[0;34m(self, proxy, as_dict, freq)\u001b[0m\n\u001b[1;32m   1741\u001b[0m \u001b[38;5;250m\u001b[39m\u001b[38;5;124;03m\"\"\"\u001b[39;00m\n\u001b[1;32m   1742\u001b[0m \u001b[38;5;124;03m:Parameters:\u001b[39;00m\n\u001b[1;32m   1743\u001b[0m \u001b[38;5;124;03m    as_dict: bool\u001b[39;00m\n\u001b[0;32m   (...)\u001b[0m\n\u001b[1;32m   1751\u001b[0m \u001b[38;5;124;03m        Default is None\u001b[39;00m\n\u001b[1;32m   1752\u001b[0m \u001b[38;5;124;03m\"\"\"\u001b[39;00m\n\u001b[1;32m   1753\u001b[0m \u001b[38;5;28mself\u001b[39m\u001b[38;5;241m.\u001b[39m_fundamentals\u001b[38;5;241m.\u001b[39mproxy \u001b[38;5;241m=\u001b[39m proxy\n\u001b[0;32m-> 1754\u001b[0m data \u001b[38;5;241m=\u001b[39m \u001b[38;5;28;43mself\u001b[39;49m\u001b[38;5;241;43m.\u001b[39;49m\u001b[43m_fundamentals\u001b[49m\u001b[38;5;241;43m.\u001b[39;49m\u001b[43mearnings\u001b[49m[freq]\n\u001b[1;32m   1755\u001b[0m \u001b[38;5;28;01mif\u001b[39;00m as_dict:\n\u001b[1;32m   1756\u001b[0m     dict_data \u001b[38;5;241m=\u001b[39m data\u001b[38;5;241m.\u001b[39mto_dict()\n",
      "File \u001b[0;32m/usr/local/lib/python3.9/site-packages/yfinance/scrapers/fundamentals.py:33\u001b[0m, in \u001b[0;36mFundamentals.earnings\u001b[0;34m(self)\u001b[0m\n\u001b[1;32m     30\u001b[0m \u001b[38;5;129m@property\u001b[39m\n\u001b[1;32m     31\u001b[0m \u001b[38;5;28;01mdef\u001b[39;00m \u001b[38;5;21mearnings\u001b[39m(\u001b[38;5;28mself\u001b[39m) \u001b[38;5;241m-\u001b[39m\u001b[38;5;241m>\u001b[39m \u001b[38;5;28mdict\u001b[39m:\n\u001b[1;32m     32\u001b[0m     \u001b[38;5;28;01mif\u001b[39;00m \u001b[38;5;28mself\u001b[39m\u001b[38;5;241m.\u001b[39m_earnings \u001b[38;5;129;01mis\u001b[39;00m \u001b[38;5;28;01mNone\u001b[39;00m:\n\u001b[0;32m---> 33\u001b[0m         \u001b[38;5;28;01mraise\u001b[39;00m YFNotImplementedError(\u001b[38;5;124m'\u001b[39m\u001b[38;5;124mearnings\u001b[39m\u001b[38;5;124m'\u001b[39m)\n\u001b[1;32m     34\u001b[0m     \u001b[38;5;28;01mreturn\u001b[39;00m \u001b[38;5;28mself\u001b[39m\u001b[38;5;241m.\u001b[39m_earnings\n",
      "\u001b[0;31mYFNotImplementedError\u001b[0m: Have not implemented fetching 'earnings' from Yahoo API"
     ]
    }
   ],
   "source": [
    "\n",
    "print(ticker_info.earnings)"
   ]
  }
 ],
 "metadata": {
  "kernelspec": {
   "display_name": "Python 3 (ipykernel)",
   "language": "python",
   "name": "python3"
  },
  "language_info": {
   "codemirror_mode": {
    "name": "ipython",
    "version": 3
   },
   "file_extension": ".py",
   "mimetype": "text/x-python",
   "name": "python",
   "nbconvert_exporter": "python",
   "pygments_lexer": "ipython3",
   "version": "3.9.1"
  }
 },
 "nbformat": 4,
 "nbformat_minor": 5
}
